{
 "cells": [
  {
   "cell_type": "markdown",
   "metadata": {},
   "source": [
    "# Import necessary libraries and frameworks"
   ]
  },
  {
   "cell_type": "code",
   "execution_count": 6,
   "metadata": {
    "_cell_guid": "b1076dfc-b9ad-4769-8c92-a6c4dae69d19",
    "_uuid": "8f2839f25d086af736a60e9eeb907d3b93b6e0e5",
    "execution": {
     "iopub.execute_input": "2021-12-26T14:19:55.974761Z",
     "iopub.status.busy": "2021-12-26T14:19:55.973861Z",
     "iopub.status.idle": "2021-12-26T14:20:03.838978Z",
     "shell.execute_reply": "2021-12-26T14:20:03.838024Z",
     "shell.execute_reply.started": "2021-12-26T14:19:55.974630Z"
    },
    "trusted": true
   },
   "outputs": [],
   "source": [
    "import numpy as np\n",
    "import time\n",
    "import os\n",
    "from transformers import AutoModelForCausalLM, AutoTokenizer\n",
    "import torch"
   ]
  },
  {
   "cell_type": "code",
   "execution_count": 7,
   "metadata": {
    "execution": {
     "iopub.execute_input": "2021-12-26T14:20:03.840995Z",
     "iopub.status.busy": "2021-12-26T14:20:03.840758Z",
     "iopub.status.idle": "2021-12-26T14:20:39.541497Z",
     "shell.execute_reply": "2021-12-26T14:20:39.540683Z",
     "shell.execute_reply.started": "2021-12-26T14:20:03.840967Z"
    },
    "trusted": true
   },
   "outputs": [],
   "source": [
    " \n",
    "checkpoint = \"microsoft/DialoGPT-medium\"\n",
    "tokenizer = AutoTokenizer.from_pretrained(checkpoint)\n",
    "model = AutoModelForCausalLM.from_pretrained(checkpoint)"
   ]
  },
  {
   "cell_type": "markdown",
   "metadata": {},
   "source": [
    "# A ChatBot class"
   ]
  },
  {
   "cell_type": "code",
   "execution_count": null,
   "metadata": {
    "execution": {
     "iopub.execute_input": "2021-12-26T14:20:39.543226Z",
     "iopub.status.busy": "2021-12-26T14:20:39.542956Z",
     "iopub.status.idle": "2021-12-26T14:20:39.560797Z",
     "shell.execute_reply": "2021-12-26T14:20:39.559941Z",
     "shell.execute_reply.started": "2021-12-26T14:20:39.543196Z"
    },
    "trusted": true
   },
   "outputs": [],
   "source": [
    "# Build a ChatBot class to handle the conversation\n",
    "class ChatBot():\n",
    "\n",
    "    def __init__(self):\n",
    "        self.chat_history_ids = None\n",
    "        self.bot_input_ids = None\n",
    "        self.end_chat = False\n",
    "        self.welcome()\n",
    "        \n",
    "    def welcome(self):\n",
    "        print(\"Initializing ChatBot ...\")\n",
    "        \n",
    "        time.sleep(2)\n",
    "        print('Type \"bye\" or \"quit\" or \"exit\" to end chat \\n')\n",
    "       \n",
    "        time.sleep(3)\n",
    "        # Greeting\n",
    "        greeting = np.random.choice([\n",
    "            \"Welcome, I am ChatBot\",\n",
    "            \"Hey, I am your virtual assistant\",\n",
    "            \"Hi, I am a ChatBot. Let's chat!\"\n",
    "        ])\n",
    "        print(\"ChatBot >>  \" + greeting)\n",
    "        \n",
    "    def user_input(self):\n",
    "        # receive input from user\n",
    "        text = input(\"User    >> \")\n",
    "        # end conversation \n",
    "        if text.lower().strip() in ['bye', 'quit', 'exit']:\n",
    "            # turn flag on \n",
    "            self.end_chat=True\n",
    "            # a closing comment\n",
    "            print('ChatBot >>  See you soon! Bye!')\n",
    "            time.sleep(1)\n",
    "            print('\\nQuitting ChatBot ...')\n",
    "        else:\n",
    "            # continue chat, preprocess input text\n",
    "            self.new_user_input_ids = tokenizer.encode(text + tokenizer.eos_token, \\\n",
    "                                                       return_tensors='pt')\n",
    "\n",
    "    def bot_response(self):\n",
    "        \n",
    "        if self.chat_history_ids is not None:\n",
    "            self.bot_input_ids = torch.cat([self.chat_history_ids, self.new_user_input_ids], dim=-1) \n",
    "        else:\n",
    "            # if first entry, initialize bot_input_ids\n",
    "            self.bot_input_ids = self.new_user_input_ids\n",
    "        \n",
    "        \n",
    "        self.chat_history_ids = model.generate(self.bot_input_ids, max_length=1000, \\\n",
    "                                               pad_token_id=tokenizer.eos_token_id)\n",
    "            \n",
    "        # last ouput tokens from bot\n",
    "        response = tokenizer.decode(self.chat_history_ids[:, self.bot_input_ids.shape[-1]:][0], \\\n",
    "                               skip_special_tokens=True)\n",
    "        # in case, bot fails to answer\n",
    "        if response == \"\":\n",
    "            response = self.random_response()\n",
    "        # print bot response\n",
    "        print('ChatBot >>  '+ response)\n",
    "        \n",
    "    \n",
    "    def random_response(self):\n",
    "        i = -1\n",
    "        response = tokenizer.decode(self.chat_history_ids[:, self.bot_input_ids.shape[i]:][0], \\\n",
    "                               skip_special_tokens=True)\n",
    "        \n",
    "        while response == '':\n",
    "            i = i-1\n",
    "            response = tokenizer.decode(self.chat_history_ids[:, self.bot_input_ids.shape[i]:][0], \\\n",
    "                               skip_special_tokens=True)\n",
    "        \n",
    "        if response.strip() == '?':\n",
    "            reply = np.random.choice([\"I don't know\", \n",
    "                                     \"I am not sure\"])\n",
    "        \n",
    "        else:\n",
    "            reply = np.random.choice([\"Great\", \n",
    "                                      \"Fine. What's up?\", \n",
    "                                      \"Okay\"\n",
    "                                     ])\n",
    "        return reply"
   ]
  },
  {
   "cell_type": "code",
   "execution_count": 11,
   "metadata": {
    "execution": {
     "iopub.execute_input": "2021-12-26T14:20:39.562675Z",
     "iopub.status.busy": "2021-12-26T14:20:39.562463Z",
     "iopub.status.idle": "2021-12-26T14:30:15.474514Z",
     "shell.execute_reply": "2021-12-26T14:30:15.473438Z",
     "shell.execute_reply.started": "2021-12-26T14:20:39.562650Z"
    },
    "trusted": true
   },
   "outputs": [
    {
     "name": "stdout",
     "output_type": "stream",
     "text": [
      "Initializing ChatBot ...\n",
      "Type \"bye\" or \"quit\" or \"exit\" to end chat \n",
      "\n",
      "ChatBot >>  Hello, it's my pleasure meeting you\n",
      "ChatBot >>  Hey, what's up?\n",
      "ChatBot >>  I'm hungry too\n",
      "ChatBot >>  I will eat rice\n",
      "ChatBot >>  See you soon! Bye!\n",
      "\n",
      "Quitting ChatBot ...\n"
     ]
    }
   ],
   "source": [
    "# build a ChatBot object\n",
    "bot = ChatBot()\n",
    "# start chatting\n",
    "while True:\n",
    "    # receive user input\n",
    "    bot.user_input()\n",
    "    # check whether to end chat\n",
    "    if bot.end_chat:\n",
    "        break\n",
    "    # output bot response\n",
    "    bot.bot_response()    "
   ]
  }
 ],
 "metadata": {
  "kernelspec": {
   "display_name": "Python 3",
   "language": "python",
   "name": "python3"
  },
  "language_info": {
   "codemirror_mode": {
    "name": "ipython",
    "version": 3
   },
   "file_extension": ".py",
   "mimetype": "text/x-python",
   "name": "python",
   "nbconvert_exporter": "python",
   "pygments_lexer": "ipython3",
   "version": "3.10.16"
  }
 },
 "nbformat": 4,
 "nbformat_minor": 4
}
